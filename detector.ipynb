{
 "cells": [
  {
   "cell_type": "code",
   "execution_count": 1,
   "id": "b1a918f7",
   "metadata": {},
   "outputs": [],
   "source": [
    "import cv2\n",
    "from keras.preprocessing.image import img_to_array,load_img\n",
    "from keras.models import load_model\n",
    "import numpy as np"
   ]
  },
  {
   "cell_type": "code",
   "execution_count": 5,
   "id": "8c0079c9",
   "metadata": {},
   "outputs": [],
   "source": [
    "vid = cv2.VideoCapture(0)\n",
    "a=load_model(\"acc1.h5\")\n",
    "name=[\"beetroot\",\"cabbage\",\"capsicum\",\"carrot\",\"corn\",\"garlic\",\"onion\",\"potato\",\"tomato\",\"unknown\"]\n",
    "while(True):\n",
    "    ret, frame = vid.read()\n",
    "    frame=cv2.resize(frame,(300,300))\n",
    "    array=img_to_array(frame)\n",
    "    array=array.reshape(1,300,300,3)\n",
    "    xdata=np.array(array)\n",
    "    xdata=xdata.astype(\"float32\")\n",
    "    xdata=xdata/255.0\n",
    "    y=a.predict(xdata)\n",
    "\n",
    "    text=name[np.argmax(y[0])]\n",
    "    font = cv2.FONT_HERSHEY_SIMPLEX\n",
    "    org = (50, 50)\n",
    "    fontScale = 1\n",
    "    color = (255, 0, 0)\n",
    "    thickness = 2\n",
    "    frame = cv2.putText(frame, text, org, font,fontScale, color, thickness, cv2.LINE_AA)\n",
    "    cv2.imshow('frame', frame)\n",
    "    if cv2.waitKey(1) & 0xFF == ord('q'):\n",
    "        break\n",
    "vid.release()\n",
    "cv2.destroyAllWindows()"
   ]
  },
  {
   "cell_type": "code",
   "execution_count": 10,
   "id": "ffd6023d",
   "metadata": {},
   "outputs": [
    {
     "data": {
      "text/plain": [
       "7"
      ]
     },
     "execution_count": 10,
     "metadata": {},
     "output_type": "execute_result"
    }
   ],
   "source": [
    "def predictx(y):\n",
    "    y1=list(y)\n",
    "    m=y1[0]\n",
    "    c=0\n",
    "    for i in range(0,len(y1)):\n",
    "        if(m<y[i]):\n",
    "            c=i\n",
    "            m=y1[i]\n",
    "        \n",
    "    return(c)\n"
   ]
  },
  {
   "cell_type": "code",
   "execution_count": 19,
   "id": "c79268ac",
   "metadata": {},
   "outputs": [
    {
     "data": {
      "text/plain": [
       "'beetroot'"
      ]
     },
     "execution_count": 19,
     "metadata": {},
     "output_type": "execute_result"
    }
   ],
   "source": [
    "y=[[8.12006593e-01,2.44849897e-03,1.44780390e-02,1.73656782e-03\n",
    "  ,1.11004425e-04,1.83107909e-02,1.11458510e-01,1.36781503e-02\n",
    "  ,5.41985733e-03,2.03519594e-02]]\n",
    "y=np.array(y[0])\n",
    "y=predictx(y)\n",
    "name[y]"
   ]
  },
  {
   "cell_type": "code",
   "execution_count": null,
   "id": "7727d53c",
   "metadata": {},
   "outputs": [],
   "source": []
  }
 ],
 "metadata": {
  "kernelspec": {
   "display_name": "Python 3",
   "language": "python",
   "name": "python3"
  },
  "language_info": {
   "codemirror_mode": {
    "name": "ipython",
    "version": 3
   },
   "file_extension": ".py",
   "mimetype": "text/x-python",
   "name": "python",
   "nbconvert_exporter": "python",
   "pygments_lexer": "ipython3",
   "version": "3.8.8"
  }
 },
 "nbformat": 4,
 "nbformat_minor": 5
}
