{
 "cells": [
  {
   "cell_type": "code",
   "execution_count": 2,
   "id": "0fc6d997",
   "metadata": {},
   "outputs": [],
   "source": [
    "from keras.models import Sequential\n",
    "from keras.layers import Conv2D,MaxPooling2D,Dense,BatchNormalization,Dropout\n",
    "from keras.optimizers import SGD\n",
    "from keras.preprocessing.image import img_to_array,load_img\n",
    "import cv2\n",
    "import os"
   ]
  },
  {
   "cell_type": "code",
   "execution_count": 92,
   "id": "83e31a33",
   "metadata": {},
   "outputs": [],
   "source": [
    "path=\"D:\\\\train\\\\beetroot\\\\Image_\"\n",
    "#path=os.load_dir(path)\n",
    "ydata=[]\n",
    "xdata=[]\n",
    "for i in range(0,100):\n",
    "    p=path+str(i+1)+\".jpg\"\n",
    "    a=load_img(p,target_size=(300,300))\n",
    "    d=img_to_array(a)\n",
    "    xdata.append(d)\n",
    "    ydata.append([1,0,0,0,0,0,0,0,0,0])\n",
    "#img=load_img(path)"
   ]
  },
  {
   "cell_type": "code",
   "execution_count": 93,
   "id": "8965ecf8",
   "metadata": {},
   "outputs": [
    {
     "name": "stdout",
     "output_type": "stream",
     "text": [
      "not found\n"
     ]
    }
   ],
   "source": [
    "\n",
    "path=\"D:\\\\train\\\\cabbage\\\\Image_\"\n",
    "for i in range(0,39):\n",
    "    p=path+str(i+1)+\".jpg\"\n",
    "    a=load_img(p,target_size=(300,300))\n",
    "    d=img_to_array(a)\n",
    "    xdata.append(d)\n",
    "    ydata.append([0,1,0,0,0,0,0,0,0,0])\n",
    "for i in range(42,100):\n",
    "    if(i==63):\n",
    "        print(\"not found\")\n",
    "    else:\n",
    "        p=path+str(i+1)+\".jpg\"\n",
    "        a=load_img(p,target_size=(300,300))\n",
    "        d=img_to_array(a)\n",
    "        xdata.append(d)\n",
    "        ydata.append([0,1,0,0,0,0,0,0,0,0])\n",
    "    "
   ]
  },
  {
   "cell_type": "code",
   "execution_count": 94,
   "id": "19a6e916-b476-4c4e-8ea7-17a3cc3e1c14",
   "metadata": {},
   "outputs": [],
   "source": [
    "path=\"D:\\\\train\\\\capsicum\\\\Image_\"\n",
    "for i in range(0,100):\n",
    "    if(i==94):\n",
    "        continue\n",
    "    p=path+str(i+1)+\".jpg\"\n",
    "    a=load_img(p,target_size=(300,300))\n",
    "    d=img_to_array(a)\n",
    "    xdata.append(d)\n",
    "    ydata.append([0,0,1,0,0,0,0,0,0,0])"
   ]
  },
  {
   "cell_type": "code",
   "execution_count": 95,
   "id": "0edb0837-48ff-430e-b87c-3f62c11fcd34",
   "metadata": {},
   "outputs": [
    {
     "name": "stdout",
     "output_type": "stream",
     "text": [
      "not found\n",
      "not found\n",
      "not found\n",
      "not found\n",
      "not found\n",
      "not found\n",
      "not found\n",
      "not found\n",
      "not found\n",
      "not found\n",
      "not found\n",
      "not found\n",
      "not found\n",
      "not found\n",
      "not found\n"
     ]
    }
   ],
   "source": [
    "path=\"D:\\\\train\\\\carrot\\\\Image_\"\n",
    "for i in range(1,101):\n",
    "    if(i==16 or i==18 or i==30 or i==36 or i==38 or i==39 or i==44 or i==45 or i==48 or i==62 or i==80 or i==87 or i==92 or i==95 or i==97):\n",
    "        print(\"not found\")\n",
    "    else:    \n",
    "        p=path+str(i)+\".jpg\"\n",
    "        a=load_img(p,target_size=(300,300))\n",
    "        d=img_to_array(a)\n",
    "        xdata.append(d)\n",
    "        ydata.append([0,0,0,1,0,0,0,0,0,0])"
   ]
  },
  {
   "cell_type": "code",
   "execution_count": 97,
   "id": "0a61eef1-07ea-4aa7-86f3-1ddaab589d82",
   "metadata": {},
   "outputs": [],
   "source": [
    "path=\"D:\\\\train\\\\corn\\\\Image_\"\n",
    "for i in range(19,100):\n",
    "    \n",
    "    p=path+str(i+1)+\".jpg\"\n",
    "    a=load_img(p,target_size=(300,300))\n",
    "    d=img_to_array(a)\n",
    "    xdata.append(d)\n",
    "    ydata.append([0,0,0,0,1,0,0,0,0,0])"
   ]
  },
  {
   "cell_type": "code",
   "execution_count": 98,
   "id": "190caae9-15ec-452a-8ec9-c2ac4a54179c",
   "metadata": {},
   "outputs": [],
   "source": [
    "path=\"D:\\\\train\\\\garlic\\\\Image_\"\n",
    "for i in range(0,100):\n",
    "    p=path+str(i+1)+\".jpg\"\n",
    "    a=load_img(p,target_size=(300,300))\n",
    "    d=img_to_array(a)\n",
    "    xdata.append(d)\n",
    "    ydata.append([0,0,0,0,0,1,0,0,0,0])"
   ]
  },
  {
   "cell_type": "code",
   "execution_count": 109,
   "id": "71ca85f0",
   "metadata": {},
   "outputs": [
    {
     "data": {
      "text/plain": [
       "(975, 300, 300, 3)"
      ]
     },
     "execution_count": 109,
     "metadata": {},
     "output_type": "execute_result"
    }
   ],
   "source": [
    "import numpy as np\n",
    "np.shape(xdata)"
   ]
  },
  {
   "cell_type": "code",
   "execution_count": 100,
   "id": "3572d7df-2a92-4bb1-9d3c-84bbe07b488a",
   "metadata": {},
   "outputs": [],
   "source": [
    "path=\"D:\\\\train\\\\onion\\\\Image_\"\n",
    "for i in range(44,100):\n",
    "    p=path+str(i+1)+\".jpg\"\n",
    "    a=load_img(p,target_size=(300,300))\n",
    "    d=img_to_array(a)\n",
    "    xdata.append(d)\n",
    "    ydata.append([0,0,0,0,0,0,1,0,0,0])"
   ]
  },
  {
   "cell_type": "code",
   "execution_count": 102,
   "id": "6e709d64-3b48-4095-b9b9-c81496c1451d",
   "metadata": {},
   "outputs": [],
   "source": [
    "path=\"D:\\\\train\\\\potato\\\\Image_\"\n",
    "for i in range(80,100):\n",
    "    p=path+str(i+1)+\".jpg\"\n",
    "    a=load_img(p,target_size=(300,300))\n",
    "    d=img_to_array(a)\n",
    "    xdata.append(d)\n",
    "    ydata.append([0,0,0,0,0,0,0,1,0,0])"
   ]
  },
  {
   "cell_type": "code",
   "execution_count": 105,
   "id": "5bf4ff68-d44a-4f34-ac39-ad7409626446",
   "metadata": {},
   "outputs": [],
   "source": [
    "path=\"D:\\\\train\\\\tomato\\\\Image_\"\n",
    "for i in range(42,100):\n",
    "    p=path+str(i+1)+\".jpg\"\n",
    "    a=load_img(p,target_size=(300,300))\n",
    "    d=img_to_array(a)\n",
    "    xdata.append(d)\n",
    "    ydata.append([0,0,0,0,0,0,0,0,1,0])"
   ]
  },
  {
   "cell_type": "code",
   "execution_count": 108,
   "id": "60784ee9-e74e-4042-a9cb-31ff2b5a2afd",
   "metadata": {},
   "outputs": [],
   "source": [
    "path=\"D:\\\\New folder\\\\Image_\"\n",
    "for i in range(42,100):\n",
    "    p=path+str(i+1)+\".jpg\"\n",
    "    a=load_img(p,target_size=(300,300))\n",
    "    d=img_to_array(a)\n",
    "    xdata.append(d)\n",
    "    ydata.append([0,0,0,0,0,0,0,0,0,1])"
   ]
  },
  {
   "cell_type": "code",
   "execution_count": 114,
   "id": "a1381ece-847f-4400-b752-fef86b95d89b",
   "metadata": {},
   "outputs": [],
   "source": [
    "x=np.array(xdata)\n",
    "y=np.array(ydata)"
   ]
  },
  {
   "cell_type": "code",
   "execution_count": 115,
   "id": "e7cbcee7-a36f-4bbf-85a8-23f0b4d59f65",
   "metadata": {},
   "outputs": [],
   "source": [
    "np.save(\"x.npy\",x)\n",
    "np.save(\"y.npy\",y)"
   ]
  },
  {
   "cell_type": "code",
   "execution_count": null,
   "id": "d0ba2f3c-56a7-4516-925e-a97878366282",
   "metadata": {},
   "outputs": [],
   "source": []
  }
 ],
 "metadata": {
  "kernelspec": {
   "display_name": "Python 3",
   "language": "python",
   "name": "python3"
  },
  "language_info": {
   "codemirror_mode": {
    "name": "ipython",
    "version": 3
   },
   "file_extension": ".py",
   "mimetype": "text/x-python",
   "name": "python",
   "nbconvert_exporter": "python",
   "pygments_lexer": "ipython3",
   "version": "3.8.8"
  }
 },
 "nbformat": 4,
 "nbformat_minor": 5
}
